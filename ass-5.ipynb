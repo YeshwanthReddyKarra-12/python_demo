{
 "cells": [
  {
   "cell_type": "code",
   "execution_count": 1,
   "id": "4027e93c-9bb1-40c5-8168-0086616990c4",
   "metadata": {},
   "outputs": [
    {
     "name": "stdin",
     "output_type": "stream",
     "text": [
      "Enter a positive integer n:  5\n"
     ]
    },
    {
     "name": "stdout",
     "output_type": "stream",
     "text": [
      "Numbers from 1 to 5 using a for loop:\n",
      "1\n",
      "2\n",
      "3\n",
      "4\n",
      "5\n",
      "The sum of all numbers from 1 to 5 is: 15\n"
     ]
    }
   ],
   "source": [
    "\n",
    "n = int(input(\"Enter a positive integer n: \"))\n",
    "\n",
    "print(\"Numbers from 1 to\", n, \"using a for loop:\")\n",
    "for i in range(1, n + 1):\n",
    "    print(i)\n",
    "x = 0\n",
    "i = 1\n",
    "while i <= n:\n",
    "    x += i\n",
    "    i += 1\n",
    "\n",
    "print(\"The sum of all numbers from 1 to\", n, \"is:\", x)\n"
   ]
  },
  {
   "cell_type": "code",
   "execution_count": 2,
   "id": "38bf26ea-ba67-401a-b0e9-2ba1a4528b35",
   "metadata": {},
   "outputs": [
    {
     "name": "stdin",
     "output_type": "stream",
     "text": [
      "Enter a positive integer:  31\n"
     ]
    },
    {
     "name": "stdout",
     "output_type": "stream",
     "text": [
      "The square of 31 is: 961\n"
     ]
    }
   ],
   "source": [
    "def calculate_square(n):\n",
    "    return n ** 2\n",
    "\n",
    "n = int(input(\"Enter a positive integer: \"))\n",
    "\n",
    "x = calculate_square(n)\n",
    "print(f\"The square of {n} is: {x}\")\n"
   ]
  },
  {
   "cell_type": "code",
   "execution_count": null,
   "id": "c8a4e76a-9e49-49b4-8bae-aa4927f77fb1",
   "metadata": {},
   "outputs": [],
   "source": []
  }
 ],
 "metadata": {
  "kernelspec": {
   "display_name": "Python 3 (ipykernel)",
   "language": "python",
   "name": "python3"
  },
  "language_info": {
   "codemirror_mode": {
    "name": "ipython",
    "version": 3
   },
   "file_extension": ".py",
   "mimetype": "text/x-python",
   "name": "python",
   "nbconvert_exporter": "python",
   "pygments_lexer": "ipython3",
   "version": "3.12.7"
  }
 },
 "nbformat": 4,
 "nbformat_minor": 5
}
