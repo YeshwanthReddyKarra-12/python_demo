{
 "cells": [
  {
   "cell_type": "code",
   "execution_count": 29,
   "id": "7486360f-cd44-40d2-aed4-27a4adc528db",
   "metadata": {},
   "outputs": [],
   "source": [
    "from pandas import read_csv\n",
    "from sklearn.model_selection import KFold\n",
    "from sklearn.model_selection import cross_val_score\n",
    "from sklearn.ensemble import BaggingClassifier\n",
    "from sklearn.tree import DecisionTreeClassifier"
   ]
  },
  {
   "cell_type": "code",
   "execution_count": 31,
   "id": "40d04fae-30ea-44e6-a606-bb6edcb3653f",
   "metadata": {},
   "outputs": [],
   "source": [
    "filename = 'pima-indians-diabetes.data.csv'"
   ]
  },
  {
   "cell_type": "code",
   "execution_count": 33,
   "id": "aa6578c2-da02-4d6c-a80a-773f6390d562",
   "metadata": {},
   "outputs": [],
   "source": [
    "names=['preg','plas','pres','skin','test','mass','pedi','age','class']"
   ]
  },
  {
   "cell_type": "code",
   "execution_count": 35,
   "id": "b6602f66-c6ab-47f3-82ab-9758431e02c5",
   "metadata": {},
   "outputs": [],
   "source": [
    "dataframe= read_csv(filename, names=names)"
   ]
  },
  {
   "cell_type": "code",
   "execution_count": 37,
   "id": "47f22a6b-0f3e-4ed4-beb3-370ab25adb5f",
   "metadata": {},
   "outputs": [],
   "source": [
    "array=dataframe.values\n",
    "X=array[:,0:8]\n",
    "Y=array[:,8]"
   ]
  },
  {
   "cell_type": "code",
   "execution_count": 39,
   "id": "0098c0e4-42bd-4377-aa6c-2bddac1bdfb9",
   "metadata": {},
   "outputs": [
    {
     "name": "stdout",
     "output_type": "stream",
     "text": [
      "0.7578263841421736\n"
     ]
    }
   ],
   "source": [
    "seed=7\n",
    "kfold=KFold(n_splits=10,shuffle=True, random_state=seed)\n",
    "cart=DecisionTreeClassifier()\n",
    "num_trees=100\n",
    "\n",
    "model=BaggingClassifier(estimator=cart,n_estimators=num_trees, random_state=seed)\n",
    "results = cross_val_score(model,X,Y,cv=kfold)\n",
    "print(results.mean())"
   ]
  },
  {
   "cell_type": "code",
   "execution_count": null,
   "id": "8db8c489-cf00-4ebe-b5b4-04a0494d2e87",
   "metadata": {},
   "outputs": [],
   "source": []
  }
 ],
 "metadata": {
  "kernelspec": {
   "display_name": "Python [conda env:base] *",
   "language": "python",
   "name": "conda-base-py"
  },
  "language_info": {
   "codemirror_mode": {
    "name": "ipython",
    "version": 3
   },
   "file_extension": ".py",
   "mimetype": "text/x-python",
   "name": "python",
   "nbconvert_exporter": "python",
   "pygments_lexer": "ipython3",
   "version": "3.12.7"
  }
 },
 "nbformat": 4,
 "nbformat_minor": 5
}
