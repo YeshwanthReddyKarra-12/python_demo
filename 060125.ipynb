{
 "cells": [
  {
   "cell_type": "code",
   "execution_count": 35,
   "id": "52108872-2ba9-4b56-806d-f9258a94e744",
   "metadata": {},
   "outputs": [
    {
     "data": {
      "text/plain": [
       "[31, 12, 15, 126]"
      ]
     },
     "execution_count": 35,
     "metadata": {},
     "output_type": "execute_result"
    }
   ],
   "source": [
    "a = [31, 12, 15, 126] #heterogeneous\n",
    "a"
   ]
  },
  {
   "cell_type": "code",
   "execution_count": 36,
   "id": "f34553ae-d64f-4206-bba1-77b7386a8667",
   "metadata": {},
   "outputs": [
    {
     "data": {
      "text/plain": [
       "list"
      ]
     },
     "execution_count": 36,
     "metadata": {},
     "output_type": "execute_result"
    }
   ],
   "source": [
    "type(a)"
   ]
  },
  {
   "cell_type": "code",
   "execution_count": 37,
   "id": "252086d1-a6ef-4c8b-ad92-e583d096e031",
   "metadata": {},
   "outputs": [
    {
     "data": {
      "text/plain": [
       "['Pran', True, 31.12, 156, 'Hyd', 31, 12, False]"
      ]
     },
     "execution_count": 37,
     "metadata": {},
     "output_type": "execute_result"
    }
   ],
   "source": [
    "b = ['Pran' , True, 31.12, 156,'Hyd',31,12,False] #homogeneous\n",
    "b"
   ]
  },
  {
   "cell_type": "code",
   "execution_count": 38,
   "id": "9c372f57-63b1-4ff6-8157-75b3b9281bca",
   "metadata": {},
   "outputs": [
    {
     "data": {
      "text/plain": [
       "list"
      ]
     },
     "execution_count": 38,
     "metadata": {},
     "output_type": "execute_result"
    }
   ],
   "source": [
    "type(b)"
   ]
  },
  {
   "cell_type": "code",
   "execution_count": 39,
   "id": "28020d9a-ca83-482f-9f94-503d7558b1bf",
   "metadata": {},
   "outputs": [
    {
     "data": {
      "text/plain": [
       "'Pran'"
      ]
     },
     "execution_count": 39,
     "metadata": {},
     "output_type": "execute_result"
    }
   ],
   "source": [
    "b[0]"
   ]
  },
  {
   "cell_type": "code",
   "execution_count": 40,
   "id": "952814c8-7515-4735-9337-d067d333940c",
   "metadata": {},
   "outputs": [
    {
     "data": {
      "text/plain": [
       "31.12"
      ]
     },
     "execution_count": 40,
     "metadata": {},
     "output_type": "execute_result"
    }
   ],
   "source": [
    "b[2]"
   ]
  },
  {
   "cell_type": "code",
   "execution_count": 41,
   "id": "842051d5-58bd-4d53-ae0d-0cd612bc59e4",
   "metadata": {},
   "outputs": [
    {
     "data": {
      "text/plain": [
       "True"
      ]
     },
     "execution_count": 41,
     "metadata": {},
     "output_type": "execute_result"
    }
   ],
   "source": [
    "b[1]"
   ]
  },
  {
   "cell_type": "code",
   "execution_count": 42,
   "id": "1cc3bf5e-197f-4025-8779-242259a27c6e",
   "metadata": {},
   "outputs": [
    {
     "data": {
      "text/plain": [
       "bool"
      ]
     },
     "execution_count": 42,
     "metadata": {},
     "output_type": "execute_result"
    }
   ],
   "source": [
    "type(b[1])"
   ]
  },
  {
   "cell_type": "code",
   "execution_count": 43,
   "id": "0716b4f9-8982-4d8b-86f8-ca932b88590a",
   "metadata": {},
   "outputs": [
    {
     "data": {
      "text/plain": [
       "['Pran', True, 31.12, 156, 'Hyd']"
      ]
     },
     "execution_count": 43,
     "metadata": {},
     "output_type": "execute_result"
    }
   ],
   "source": [
    "b[0:5]"
   ]
  },
  {
   "cell_type": "code",
   "execution_count": 44,
   "id": "97e63d06-623b-4288-885b-feb978408fab",
   "metadata": {},
   "outputs": [
    {
     "data": {
      "text/plain": [
       "['Pran', 31.12, 'Hyd']"
      ]
     },
     "execution_count": 44,
     "metadata": {},
     "output_type": "execute_result"
    }
   ],
   "source": [
    "b[0:6:2] # start : end : step"
   ]
  },
  {
   "cell_type": "code",
   "execution_count": 45,
   "id": "f222d672-bc23-4ad8-987a-31922c4d78ba",
   "metadata": {},
   "outputs": [
    {
     "data": {
      "text/plain": [
       "'Pran'"
      ]
     },
     "execution_count": 45,
     "metadata": {},
     "output_type": "execute_result"
    }
   ],
   "source": [
    "b[-8]"
   ]
  },
  {
   "cell_type": "code",
   "execution_count": 46,
   "id": "8b4e5968-86f8-4ac4-a1b9-3f10db7fe1cc",
   "metadata": {},
   "outputs": [
    {
     "data": {
      "text/plain": [
       "['Pran', 31.12, 'Hyd', 12]"
      ]
     },
     "execution_count": 46,
     "metadata": {},
     "output_type": "execute_result"
    }
   ],
   "source": [
    "b[-8 :-1 : 2]"
   ]
  },
  {
   "cell_type": "code",
   "execution_count": 47,
   "id": "b4dc335f-f768-431e-9565-5056a654f230",
   "metadata": {},
   "outputs": [
    {
     "data": {
      "text/plain": [
       "[False, 31, 156, True]"
      ]
     },
     "execution_count": 47,
     "metadata": {},
     "output_type": "execute_result"
    }
   ],
   "source": [
    "b[-1:-9:-2]"
   ]
  },
  {
   "cell_type": "markdown",
   "id": "efb77bb8-aebb-426e-aa1b-bf7383c03767",
   "metadata": {},
   "source": [
    "# list methods"
   ]
  },
  {
   "cell_type": "markdown",
   "id": "3239042c-9899-4feb-86c0-e075ea601597",
   "metadata": {},
   "source": [
    "### append\n",
    "### insert\n",
    "### extend\n",
    "### pop\n",
    "### remove\n",
    "### clear\n",
    "### cut\n",
    "### count\n"
   ]
  },
  {
   "cell_type": "code",
   "execution_count": 57,
   "id": "f2370fae-a87c-4d6b-b367-66d6ec1da9f2",
   "metadata": {},
   "outputs": [
    {
     "data": {
      "text/plain": [
       "['Pran', True, 31.12, 156, 'Hyd', 31, 12, False]"
      ]
     },
     "execution_count": 57,
     "metadata": {},
     "output_type": "execute_result"
    }
   ],
   "source": [
    "b"
   ]
  },
  {
   "cell_type": "code",
   "execution_count": 58,
   "id": "3e59bcfe-6e79-49fd-8240-f53d9cd9d991",
   "metadata": {},
   "outputs": [
    {
     "data": {
      "text/plain": [
       "['Pran', True, 31.12, 156, 'Hyd', 31, 12, False, 80]"
      ]
     },
     "execution_count": 58,
     "metadata": {},
     "output_type": "execute_result"
    }
   ],
   "source": [
    "b.append(80)\n",
    "b"
   ]
  },
  {
   "cell_type": "code",
   "execution_count": 59,
   "id": "cedc7dd9-f6ce-434b-8a51-356ab10b0b37",
   "metadata": {},
   "outputs": [
    {
     "data": {
      "text/plain": [
       "['Pran', 30, True, 31.12, 156, 'Hyd', 31, 12, False, 80]"
      ]
     },
     "execution_count": 59,
     "metadata": {},
     "output_type": "execute_result"
    }
   ],
   "source": [
    "b.insert(1,30)\n",
    "b"
   ]
  },
  {
   "cell_type": "code",
   "execution_count": 69,
   "id": "da2894c0-81f0-479a-9b13-ec98a045fdac",
   "metadata": {},
   "outputs": [
    {
     "data": {
      "text/plain": [
       "'Pran'"
      ]
     },
     "execution_count": 69,
     "metadata": {},
     "output_type": "execute_result"
    }
   ],
   "source": [
    "b.pop(0)"
   ]
  },
  {
   "cell_type": "code",
   "execution_count": 71,
   "id": "195ce261-f986-4bcd-bd85-8b1cc7c13aae",
   "metadata": {},
   "outputs": [
    {
     "data": {
      "text/plain": [
       "'Hyd'"
      ]
     },
     "execution_count": 71,
     "metadata": {},
     "output_type": "execute_result"
    }
   ],
   "source": [
    "b.pop(2)"
   ]
  },
  {
   "cell_type": "code",
   "execution_count": 72,
   "id": "d38a5796-dba4-4f7f-92cf-c69165c7aff3",
   "metadata": {},
   "outputs": [],
   "source": [
    "b.insert(0,'pran')"
   ]
  },
  {
   "cell_type": "code",
   "execution_count": 73,
   "id": "7d405088-d634-413b-9dd9-0b056973bb1a",
   "metadata": {},
   "outputs": [
    {
     "data": {
      "text/plain": [
       "['pran', True, 31.12, 31, 12, False, 80]"
      ]
     },
     "execution_count": 73,
     "metadata": {},
     "output_type": "execute_result"
    }
   ],
   "source": [
    "b"
   ]
  },
  {
   "cell_type": "code",
   "execution_count": 75,
   "id": "255760ef-ad2f-466d-9126-81057935d97d",
   "metadata": {},
   "outputs": [],
   "source": [
    "b.clear()"
   ]
  },
  {
   "cell_type": "code",
   "execution_count": 76,
   "id": "c04c8493-0a73-4ac1-9897-c63c7d493380",
   "metadata": {},
   "outputs": [
    {
     "data": {
      "text/plain": [
       "[]"
      ]
     },
     "execution_count": 76,
     "metadata": {},
     "output_type": "execute_result"
    }
   ],
   "source": [
    "b"
   ]
  },
  {
   "cell_type": "code",
   "execution_count": 77,
   "id": "4de3cd0f-b0f3-4267-82d8-af7293f1c105",
   "metadata": {},
   "outputs": [
    {
     "data": {
      "text/plain": [
       "list"
      ]
     },
     "execution_count": 77,
     "metadata": {},
     "output_type": "execute_result"
    }
   ],
   "source": [
    "type(b)"
   ]
  },
  {
   "cell_type": "code",
   "execution_count": 78,
   "id": "f047d5fc-04c1-44bd-b993-c205759014c4",
   "metadata": {},
   "outputs": [],
   "source": [
    "del b"
   ]
  },
  {
   "cell_type": "code",
   "execution_count": 79,
   "id": "b32a34bc-1c50-4d45-8d40-61ac3ab8fe96",
   "metadata": {},
   "outputs": [
    {
     "ename": "NameError",
     "evalue": "name 'b' is not defined",
     "output_type": "error",
     "traceback": [
      "\u001b[1;31m---------------------------------------------------------------------------\u001b[0m",
      "\u001b[1;31mNameError\u001b[0m                                 Traceback (most recent call last)",
      "Cell \u001b[1;32mIn[79], line 1\u001b[0m\n\u001b[1;32m----> 1\u001b[0m b\n",
      "\u001b[1;31mNameError\u001b[0m: name 'b' is not defined"
     ]
    }
   ],
   "source": [
    "b"
   ]
  },
  {
   "cell_type": "code",
   "execution_count": 86,
   "id": "db7d4bb6-9685-4f79-a3b8-a4acae981467",
   "metadata": {},
   "outputs": [
    {
     "data": {
      "text/plain": [
       "1"
      ]
     },
     "execution_count": 86,
     "metadata": {},
     "output_type": "execute_result"
    }
   ],
   "source": [
    "b = ['Pran' , True, 31.12, 156,'Hyd',31,12,False] #homogeneous\n",
    "b.count(31.12)"
   ]
  },
  {
   "cell_type": "code",
   "execution_count": 87,
   "id": "7e12a783-a64b-4eb2-be89-e790541f4d7e",
   "metadata": {},
   "outputs": [
    {
     "data": {
      "text/plain": [
       "['Pran', True, 31.12, 156, 'Hyd', 31, 12, False, 23, 34, 56, 78]"
      ]
     },
     "execution_count": 87,
     "metadata": {},
     "output_type": "execute_result"
    }
   ],
   "source": [
    "b.extend([23,34,56,78])\n",
    "b"
   ]
  },
  {
   "cell_type": "code",
   "execution_count": null,
   "id": "0d007a34-68a0-4657-8ed7-8f9def77feb9",
   "metadata": {},
   "outputs": [],
   "source": []
  }
 ],
 "metadata": {
  "kernelspec": {
   "display_name": "Python 3 (ipykernel)",
   "language": "python",
   "name": "python3"
  },
  "language_info": {
   "codemirror_mode": {
    "name": "ipython",
    "version": 3
   },
   "file_extension": ".py",
   "mimetype": "text/x-python",
   "name": "python",
   "nbconvert_exporter": "python",
   "pygments_lexer": "ipython3",
   "version": "3.12.7"
  }
 },
 "nbformat": 4,
 "nbformat_minor": 5
}
