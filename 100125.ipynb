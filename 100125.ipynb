{
 "cells": [
  {
   "cell_type": "markdown",
   "id": "611edcdd-8c52-43e4-a575-0faddfe6295d",
   "metadata": {},
   "source": [
    "# for\n",
    "# while"
   ]
  },
  {
   "cell_type": "code",
   "execution_count": 2,
   "id": "c58da362-e2f3-4e42-80df-055850193c51",
   "metadata": {
    "scrolled": true
   },
   "outputs": [
    {
     "name": "stdout",
     "output_type": "stream",
     "text": [
      "Yes\n",
      "Yes\n",
      "Yes\n",
      "Yes\n",
      "Yes\n"
     ]
    }
   ],
   "source": [
    "x =5\n",
    "while x<10:\n",
    "    print(\"Yes\")\n",
    "    x=x+1"
   ]
  },
  {
   "cell_type": "code",
   "execution_count": 3,
   "id": "0d3662b1-b5a6-4943-b890-3a9e5998b95a",
   "metadata": {},
   "outputs": [
    {
     "data": {
      "text/plain": [
       "[40, 20, 80, 50, 30, 60, 90]"
      ]
     },
     "execution_count": 3,
     "metadata": {},
     "output_type": "execute_result"
    }
   ],
   "source": [
    "dollars = [40,20,80,50,30,60,90]\n",
    "dollars"
   ]
  },
  {
   "cell_type": "code",
   "execution_count": 6,
   "id": "bf365d87-8779-4ddd-bc26-0b40dc8b6996",
   "metadata": {},
   "outputs": [
    {
     "name": "stdout",
     "output_type": "stream",
     "text": [
      "3400\n",
      "1700\n",
      "6800\n",
      "4250\n",
      "2550\n",
      "5100\n",
      "7650\n"
     ]
    }
   ],
   "source": [
    "for i in dollars:\n",
    "    print(i*85)"
   ]
  },
  {
   "cell_type": "code",
   "execution_count": 11,
   "id": "ea75c521-58f5-4131-92cf-ca61c6583543",
   "metadata": {},
   "outputs": [],
   "source": [
    "inr =[]\n",
    "for i in dollars:\n",
    "    inr.append(i*85)"
   ]
  },
  {
   "cell_type": "code",
   "execution_count": 12,
   "id": "543b2308-4932-4705-aedf-6ff91cc21d93",
   "metadata": {},
   "outputs": [
    {
     "data": {
      "text/plain": [
       "[3400, 1700, 6800, 4250, 2550, 5100, 7650]"
      ]
     },
     "execution_count": 12,
     "metadata": {},
     "output_type": "execute_result"
    }
   ],
   "source": [
    "inr"
   ]
  },
  {
   "cell_type": "code",
   "execution_count": 13,
   "id": "dbf50580-009d-4f99-bca8-eec4d4e85b89",
   "metadata": {},
   "outputs": [
    {
     "data": {
      "text/plain": [
       "[40, 20, 80, 50, 30, 60, 90]"
      ]
     },
     "execution_count": 13,
     "metadata": {},
     "output_type": "execute_result"
    }
   ],
   "source": [
    "dollars"
   ]
  },
  {
   "cell_type": "code",
   "execution_count": 14,
   "id": "3eda966d-bead-48a4-b280-9fd91b1f5334",
   "metadata": {},
   "outputs": [
    {
     "data": {
      "text/plain": [
       "[31, 45, 66, 33, 90, 78, 67, 87, 89, 93, 25, 59, 9, 81]"
      ]
     },
     "execution_count": 14,
     "metadata": {},
     "output_type": "execute_result"
    }
   ],
   "source": [
    "num = [31,45,66,33,90,78,67,87,89,93,25,59,9,81]\n",
    "num"
   ]
  },
  {
   "cell_type": "code",
   "execution_count": 16,
   "id": "41a51a51-b22e-4e3e-801f-f63069058482",
   "metadata": {},
   "outputs": [
    {
     "name": "stdout",
     "output_type": "stream",
     "text": [
      "31\n",
      "45\n",
      "66\n",
      "33\n",
      "90\n",
      "78\n",
      "67\n",
      "87\n",
      "89\n",
      "93\n",
      "25\n",
      "59\n",
      "9\n",
      "81\n"
     ]
    }
   ],
   "source": [
    "for i in num:\n",
    "    print(i)"
   ]
  },
  {
   "cell_type": "code",
   "execution_count": 18,
   "id": "43e9301b-29a0-4d53-b68f-1bd6a42b4032",
   "metadata": {},
   "outputs": [],
   "source": [
    "j = []\n",
    "k =[]\n",
    "for i in num:\n",
    "    if i%2==0:\n",
    "        j.append(i)\n",
    "    else:\n",
    "        k.append(i)"
   ]
  },
  {
   "cell_type": "code",
   "execution_count": 21,
   "id": "b974f76e-bbef-44f0-9163-91bc5603e665",
   "metadata": {},
   "outputs": [
    {
     "data": {
      "text/plain": [
       "[66, 90, 78]"
      ]
     },
     "execution_count": 21,
     "metadata": {},
     "output_type": "execute_result"
    }
   ],
   "source": [
    "j\n"
   ]
  },
  {
   "cell_type": "code",
   "execution_count": 22,
   "id": "59c2e237-2915-4bcb-bd67-95c568de1b70",
   "metadata": {},
   "outputs": [
    {
     "data": {
      "text/plain": [
       "[31, 45, 33, 67, 87, 89, 93, 25, 59, 9, 81]"
      ]
     },
     "execution_count": 22,
     "metadata": {},
     "output_type": "execute_result"
    }
   ],
   "source": [
    "k"
   ]
  },
  {
   "cell_type": "code",
   "execution_count": 24,
   "id": "ac76dd58-b78e-4b56-b2e2-2f2adf3ab08a",
   "metadata": {},
   "outputs": [
    {
     "data": {
      "text/plain": [
       "[39, 45, 66, 93, 90, 78, 67, 87, 89, 93, 25, 59, 9, 91]"
      ]
     },
     "execution_count": 24,
     "metadata": {},
     "output_type": "execute_result"
    }
   ],
   "source": [
    "num =[39, 45, 66, 93, 90, 78, 67, 87, 89, 93, 25, 59, 9, 91]\n",
    "num"
   ]
  },
  {
   "cell_type": "code",
   "execution_count": 28,
   "id": "123be2c7-b464-479b-9e1a-63e17f9a2e15",
   "metadata": {},
   "outputs": [],
   "source": [
    "t=str(num)"
   ]
  },
  {
   "cell_type": "code",
   "execution_count": 29,
   "id": "50ff3560-741c-4fde-9de8-0621d60b19d2",
   "metadata": {},
   "outputs": [
    {
     "data": {
      "text/plain": [
       "'[39, 45, 66, 93, 90, 78, 67, 87, 89, 93, 25, 59, 9, 91]'"
      ]
     },
     "execution_count": 29,
     "metadata": {},
     "output_type": "execute_result"
    }
   ],
   "source": [
    "t"
   ]
  },
  {
   "cell_type": "code",
   "execution_count": 30,
   "id": "0a67a825-d76d-497c-8831-98d0370b7b9d",
   "metadata": {},
   "outputs": [],
   "source": [
    "f=t.replace('9','1')"
   ]
  },
  {
   "cell_type": "code",
   "execution_count": 31,
   "id": "94029bc9-483b-4e09-977a-707ed53f638c",
   "metadata": {},
   "outputs": [
    {
     "data": {
      "text/plain": [
       "'[31, 45, 66, 13, 10, 78, 67, 87, 81, 13, 25, 51, 1, 11]'"
      ]
     },
     "execution_count": 31,
     "metadata": {},
     "output_type": "execute_result"
    }
   ],
   "source": [
    "f"
   ]
  },
  {
   "cell_type": "code",
   "execution_count": 33,
   "id": "3a085cf6-c8d4-425d-b53e-ed09c635d3c3",
   "metadata": {},
   "outputs": [],
   "source": [
    "h=[]\n",
    "for i in num:\n",
    "    a=str(i)\n",
    "    b=a.replace('8','5')\n",
    "    c=int(b)\n",
    "    h.append(c)"
   ]
  },
  {
   "cell_type": "code",
   "execution_count": 35,
   "id": "45671cd3-ea85-434d-8b88-d2e4639a836d",
   "metadata": {},
   "outputs": [
    {
     "data": {
      "text/plain": [
       "'91'"
      ]
     },
     "execution_count": 35,
     "metadata": {},
     "output_type": "execute_result"
    }
   ],
   "source": [
    "b"
   ]
  },
  {
   "cell_type": "code",
   "execution_count": 36,
   "id": "711fc30c-0e7a-42bc-aaff-958f562453f6",
   "metadata": {},
   "outputs": [
    {
     "data": {
      "text/plain": [
       "91"
      ]
     },
     "execution_count": 36,
     "metadata": {},
     "output_type": "execute_result"
    }
   ],
   "source": [
    "c"
   ]
  },
  {
   "cell_type": "code",
   "execution_count": null,
   "id": "a79add18-c188-4dcf-986e-5ebe70048c46",
   "metadata": {},
   "outputs": [],
   "source": []
  }
 ],
 "metadata": {
  "kernelspec": {
   "display_name": "Python 3 (ipykernel)",
   "language": "python",
   "name": "python3"
  },
  "language_info": {
   "codemirror_mode": {
    "name": "ipython",
    "version": 3
   },
   "file_extension": ".py",
   "mimetype": "text/x-python",
   "name": "python",
   "nbconvert_exporter": "python",
   "pygments_lexer": "ipython3",
   "version": "3.12.7"
  }
 },
 "nbformat": 4,
 "nbformat_minor": 5
}
